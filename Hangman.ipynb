{
  "nbformat": 4,
  "nbformat_minor": 0,
  "metadata": {
    "colab": {
      "provenance": [],
      "authorship_tag": "ABX9TyN3+Oh1/HbJEbrzO593oiS6",
      "include_colab_link": true
    },
    "kernelspec": {
      "name": "python3",
      "display_name": "Python 3"
    },
    "language_info": {
      "name": "python"
    }
  },
  "cells": [
    {
      "cell_type": "markdown",
      "metadata": {
        "id": "view-in-github",
        "colab_type": "text"
      },
      "source": [
        "<a href=\"https://colab.research.google.com/github/IsmailKorrapati/Hangman/blob/main/Hangman.ipynb\" target=\"_parent\"><img src=\"https://colab.research.google.com/assets/colab-badge.svg\" alt=\"Open In Colab\"/></a>"
      ]
    },
    {
      "cell_type": "markdown",
      "source": [
        "#HANGMAN GAME\n",
        "* It is a game of guessing the correct word letter by letter with the help of given question from the category choosen.\n",
        "* Player is provided by 8 chances in case he guessing anything wrong."
      ],
      "metadata": {
        "id": "t72RPIplsdMw"
      }
    },
    {
      "cell_type": "markdown",
      "source": [
        "##DATA"
      ],
      "metadata": {
        "id": "jZWpHSY1sigt"
      }
    },
    {
      "cell_type": "code",
      "source": [
        "import pandas as pd"
      ],
      "metadata": {
        "id": "3hQmgbSssqqg"
      },
      "execution_count": null,
      "outputs": []
    },
    {
      "cell_type": "code",
      "execution_count": null,
      "metadata": {
        "id": "eT2YparbrF5j"
      },
      "outputs": [],
      "source": [
        "sq1 = \"who was the first person to walk on the moon?\"\n",
        "sa1 = \"neil armstrong\"\n",
        "sq2 = \"which is the nearest star to the planet?\"\n",
        "sa2 = \"sun\"\n",
        "sq3 = \"which planet is known as the Red Planet?\"\n",
        "sa3 = \"mars\"\n",
        "sq4 = \"which galaxy does our solar system belong to?\"\n",
        "sa4 = \"milkyway galaxy\"\n",
        "sq5 = \"which is the biggest planet in solar system?\"\n",
        "sa5 = \"jupiter\"\n",
        "space = [{sq1: sa1}, {sq2: sa2}, {sq3: sa3}, {sq4: sa4}, {sq5: sa5}]"
      ]
    },
    {
      "cell_type": "code",
      "source": [
        "gq1 = \"which is the longest river on the earth?\"\n",
        "ga1 = \"nile\"\n",
        "gq2 = \"which is the tallest mountain in the world?\"\n",
        "ga2 = \"mount everest\"\n",
        "gq3 = \"which continent is known as Dark continent?\"\n",
        "ga3 = \"africa\"\n",
        "gq4 = \"whuch is the largest ocean in the world?\"\n",
        "ga4 = \"pacific ocean\"\n",
        "gq5 = \"which is the largest country in the world?\"\n",
        "ga5 = \"russia\"\n",
        "geography = [{gq1: ga1}, {gq2: ga2}, {gq3: ga3}, {gq4: ga4}, {gq5: ga5}]"
      ],
      "metadata": {
        "id": "mfm-9XH2ss1E"
      },
      "execution_count": null,
      "outputs": []
    },
    {
      "cell_type": "code",
      "source": [
        "aq1 = \"which is the fastest animal on the land?\"\n",
        "aa1 = \"cheetah\"\n",
        "aq2 = \"which country is home to the kangaroo?\"\n",
        "aa2 = \"australia\"\n",
        "aq3 = \"how many legs does a spider have?\"\n",
        "aa3 = \"eight\"\n",
        "aq4 = \"what is the group of lions called?\"\n",
        "aa4 = \"pride\"\n",
        "aq5 = \"what is the largest mammal in the world?\"\n",
        "aa5 = \"whale\"\n",
        "animals=[{aq1:aa1},{aq2:aa2},{aq3:aa3},{aq4:aa4},{aq5:aa5}]"
      ],
      "metadata": {
        "id": "M5lNgN6xsuhv"
      },
      "execution_count": null,
      "outputs": []
    },
    {
      "cell_type": "code",
      "source": [
        "tq1=\"Who invented the Computer?\"\n",
        "ta1=\"Charles Babbage\"\n",
        "tq2=\"Who is the inventor of Radio?\"\n",
        "ta2=\"Marconi\"\n",
        "tq3=\"Who invented the telephone?\"\n",
        "ta3=\"Alexander Graham Bell\"\n",
        "tq4=\"Who discovered Penicillin in 1928?\"\n",
        "ta4=\"Alexander Fleming\"\n",
        "tq5=\"Who discovered electricity?\"\n",
        "ta5=\"Benjamin Franklin\"\n",
        "science=[{tq1:ta1},{tq2:ta2},{tq3:ta3},{tq4:ta4},{tq5:ta5}]"
      ],
      "metadata": {
        "id": "yBNK1PTxswbx"
      },
      "execution_count": null,
      "outputs": []
    },
    {
      "cell_type": "code",
      "source": [
        "spq1=\"How many players are there in a cricket team?\"\n",
        "spa1=\"Eleven\"\n",
        "spq2=\"What is the National game of India?\"\n",
        "spa2=\"Hockey\"\n",
        "spq3=\"What is the professional Twenty20 cricket league in India called?\"\n",
        "spa3=\"IPL\"\n",
        "spq4=\"What is the term for a zero score in tennis?\"\n",
        "spa4=\"Love\"\n",
        "spq5=\"Which is the only team to play in every soccer World Cup tournament?\"\n",
        "spa5=\"Brazil\"\n",
        "sports = [{spq1:spa1},{spq2:spa2},{spq3:spa3},{spq4:spa4},{spq5:spa5}]"
      ],
      "metadata": {
        "id": "ND-YThj0syJQ"
      },
      "execution_count": null,
      "outputs": []
    },
    {
      "cell_type": "code",
      "source": [
        "fq1=\"Which is the most widely spoken language in the world?\"\n",
        "fa1=\"Mandarin\"\n",
        "fq2=\"The largest ‘Democracy’ in the world?\"\n",
        "fa2=\"India\"\n",
        "fq3=\"What color symbolizes peace?\"\n",
        "fa3=\"White\"\n",
        "fq4=\" Who is the founder of Microsoft?\"\n",
        "fa4=\"Bill Gates\"\n",
        "fq5=\"Global warming is caused by the excess of which type of gas?\"\n",
        "fa5=\"Carbondioxide\"\n",
        "facts=[{fq1: fa1}, {fq2: fa2}, {fq3: fa3}, {fq4: fa4}, {fq5: fa5}]"
      ],
      "metadata": {
        "id": "ZznJLnRjszzr"
      },
      "execution_count": null,
      "outputs": []
    },
    {
      "cell_type": "code",
      "source": [
        "iq1=\" Which is the instrument used to measure Blood pressure?\"\n",
        "ia1=\"Sphygmomanometer\"\n",
        "iq2=\"Which instrument is used for measuring wind speed?\"\n",
        "ia2=\"Anemometer\"\n",
        "iq3=\"Which instrument is used to measure Atmospheric Pressure?\"\n",
        "ia3=\"Barometer\"\n",
        "iq4=\"Which instrument is used to measure Electric Current?\"\n",
        "ia4=\"Ammeter\"\n",
        "iq5=\"Which instrument is used to measure Voltage?\"\n",
        "ia5=\"voltmeter\"\n",
        "instruments=[{iq1: ia1}, {iq2: ia2}, {iq3:ia3}, {iq4: ia4}, {iq5: ia5}]"
      ],
      "metadata": {
        "id": "wbIq3nPEs12V"
      },
      "execution_count": null,
      "outputs": []
    },
    {
      "cell_type": "code",
      "source": [
        "mq1=\"What is the name of the toy cowboy in Toy Story?\"\n",
        "ma1=\"Woody\"\n",
        "mq2=\"Whose nose grew longer every time he lied?\"\n",
        "ma2=\"Pinocchio\"\n",
        "mq3=\"What is the name of the fairy in Peter Pan?\"\n",
        "ma3=\"Tinkerball\"\n",
        "mq4=\"What is the name of the pirate in Peter Pan?\"\n",
        "ma4=\"Captian Hook\"\n",
        "mq5=\"Prior to appearing in Black Panther, Michael B. Jordan starred in which Marvel movie?\"\n",
        "ma5=\"Fantastic Four\"\n",
        "movies = [{mq1: ma1}, {mq2: ma2}, {mq3: ma3}, {mq4: ma4}, {mq5: ma5}]"
      ],
      "metadata": {
        "id": "TL6-bZMbs3_Q"
      },
      "execution_count": null,
      "outputs": []
    },
    {
      "cell_type": "code",
      "source": [
        "cq1=\"___ in India is known as Orange City.\"\n",
        "ca1=\"Nagpur\"\n",
        "cq2=\"The famous Sun Temple in India is located at ____.\"\n",
        "ca2=\"Konark\"\n",
        "cq3=\"The Parliament of India is located at ___.\"\n",
        "ca3=\"New Delhi\"\n",
        "cq4=\"___ in India is known as Pink City.\"\n",
        "ca4=\"Jaipur\"\n",
        "cq5=\"___ is called the Oxford of the East in India.\"\n",
        "ca5=\"Pune\"\n",
        "indian_cities = [{cq1: ca1}, {cq2: ca2}, {cq3: ca3}, {cq4: ca4}, {cq5: ca5}]"
      ],
      "metadata": {
        "id": "7HgjnSw0s53M"
      },
      "execution_count": null,
      "outputs": []
    },
    {
      "cell_type": "code",
      "source": [
        "pq1=\"Who is known as the Flying Sikh of India?\"\n",
        "pa1=\"Milkha Singh\"\n",
        "pq2=\"Against which country, Sachin Tendulkar scored his first test century?\"\n",
        "pa2=\"England\"\n",
        "pq3=\"This sports personality has won medals in various badminton tournaments including a gold at the 2019 World Championships.\"\n",
        "pa3=\"P.V.Sindhu\"\n",
        "pq4=\"Name this only woman boxer to have won a medal in each one of the seven world championships.\"\n",
        "pa4=\"Mary Kom\"\n",
        "pq5=\"At the Beijing Olympic Games in 2008, __ became the first Indian to win an individual gold medal at the Olympic Games.\"\n",
        "pa5=\"Abhinav Bindra\"\n",
        "Indian_athletes = [{pq1: pa1}, {pq2: pa2}, {pq3: pa3}, {pq4: pa4}, {pq5: pa5}]"
      ],
      "metadata": {
        "id": "uzYhHxNRs7cv"
      },
      "execution_count": null,
      "outputs": []
    },
    {
      "cell_type": "code",
      "source": [
        "hq1=\"Who was the author of Ramayana?\"\n",
        "ha1=\"Valmiki\"\n",
        "hq2=\"Who was the wife of lakshmana?\"\n",
        "ha2=\"Urmila\"\n",
        "hq3=\"Who is known as the father of Sita?\"\n",
        "ha3=\"Janak\"\n",
        "hq4=\"From which forest was Sita abducted by Ravana?\"\n",
        "ha4=\"Dandaka\"\n",
        "hq5=\"Who is Yudhisthira's father?\"\n",
        "ha5=\"Pandu\"\n",
        "Purana = [{hq1: ha1}, {hq2: ha2}, {hq3: ha3}, {hq4: ha4}, {hq5: ha5}]"
      ],
      "metadata": {
        "id": "LSJ_ZZPOs9LA"
      },
      "execution_count": null,
      "outputs": []
    },
    {
      "cell_type": "markdown",
      "source": [
        "## A dataframe of dictionaries is made is from the data of questions and answers with keys of dictionaries as questions and values as answers."
      ],
      "metadata": {
        "id": "urRMC62as_A2"
      }
    },
    {
      "cell_type": "code",
      "source": [
        "import pandas as pd\n",
        "df = pd.DataFrame({\"Space\": space, \"Geography\": geography, \"Animals\": animals, \"Science\": science, \"Sports\": sports, \"Facts\": facts,\n",
        "                   \"Instruments\": instruments, \"Movies\": movies, \"Indian Cities\": indian_cities,\n",
        "                   \"Indian Athletes\": Indian_athletes, \"Mythology\": Purana})\n",
        "df"
      ],
      "metadata": {
        "colab": {
          "base_uri": "https://localhost:8080/",
          "height": 605
        },
        "id": "bT8uylSts-xL",
        "outputId": "0dd82997-fe3a-4bf3-845f-af9c7eaee0ab"
      },
      "execution_count": null,
      "outputs": [
        {
          "output_type": "execute_result",
          "data": {
            "text/plain": [
              "                                               Space  \\\n",
              "0  {'who was the first person to walk on the moon...   \n",
              "1  {'which is the nearest star to the planet?': '...   \n",
              "2  {'which planet is known as the Red Planet?': '...   \n",
              "3  {'which galaxy does our solar system belong to...   \n",
              "4  {'which is the biggest planet in solar system?...   \n",
              "\n",
              "                                           Geography  \\\n",
              "0  {'which is the longest river on the earth?': '...   \n",
              "1  {'which is the tallest mountain in the world?'...   \n",
              "2  {'which continent is known as Dark continent?'...   \n",
              "3  {'whuch is the largest ocean in the world?': '...   \n",
              "4  {'which is the largest country in the world?':...   \n",
              "\n",
              "                                             Animals  \\\n",
              "0  {'which is the fastest animal on the land?': '...   \n",
              "1  {'which country is home to the kangaroo?': 'au...   \n",
              "2     {'how many legs does a spider have?': 'eight'}   \n",
              "3    {'what is the group of lions called?': 'pride'}   \n",
              "4  {'what is the largest mammal in the world?': '...   \n",
              "\n",
              "                                             Science  \\\n",
              "0  {'Who invented the Computer?': 'Charles Babbage'}   \n",
              "1       {'Who is the inventor of Radio?': 'Marconi'}   \n",
              "2  {'Who invented the telephone?': 'Alexander Gra...   \n",
              "3  {'Who discovered Penicillin in 1928?': 'Alexan...   \n",
              "4  {'Who discovered electricity?': 'Benjamin Fran...   \n",
              "\n",
              "                                              Sports  \\\n",
              "0  {'How many players are there in a cricket team...   \n",
              "1  {'What is the National game of India?': 'Hockey'}   \n",
              "2  {'What is the professional Twenty20 cricket le...   \n",
              "3  {'What is the term for a zero score in tennis?...   \n",
              "4  {'Which is the only team to play in every socc...   \n",
              "\n",
              "                                               Facts  \\\n",
              "0  {'Which is the most widely spoken language in ...   \n",
              "1  {'The largest ‘Democracy’ in the world?': 'Ind...   \n",
              "2          {'What color symbolizes peace?': 'White'}   \n",
              "3  {' Who is the founder of Microsoft?': 'Bill Ga...   \n",
              "4  {'Global warming is caused by the excess of wh...   \n",
              "\n",
              "                                         Instruments  \\\n",
              "0  {' Which is the instrument used to measure Blo...   \n",
              "1  {'Which instrument is used for measuring wind ...   \n",
              "2  {'Which instrument is used to measure Atmosphe...   \n",
              "3  {'Which instrument is used to measure Electric...   \n",
              "4  {'Which instrument is used to measure Voltage?...   \n",
              "\n",
              "                                              Movies  \\\n",
              "0  {'What is the name of the toy cowboy in Toy St...   \n",
              "1  {'Whose nose grew longer every time he lied?':...   \n",
              "2  {'What is the name of the fairy in Peter Pan?'...   \n",
              "3  {'What is the name of the pirate in Peter Pan?...   \n",
              "4  {'Prior to appearing in Black Panther, Michael...   \n",
              "\n",
              "                                       Indian Cities  \\\n",
              "0  {'___ in India is known as Orange City.': 'Nag...   \n",
              "1  {'The famous Sun Temple in India is located at...   \n",
              "2  {'The Parliament of India is located at ___.':...   \n",
              "3  {'___ in India is known as Pink City.': 'Jaipur'}   \n",
              "4  {'___ is called the Oxford of the East in Indi...   \n",
              "\n",
              "                                     Indian Athletes  \\\n",
              "0  {'Who is known as the Flying Sikh of India?': ...   \n",
              "1  {'Against which country, Sachin Tendulkar scor...   \n",
              "2  {'This sports personality has won medals in va...   \n",
              "3  {'Name this only woman boxer to have won a med...   \n",
              "4  {'At the Beijing Olympic Games in 2008, __ bec...   \n",
              "\n",
              "                                           Mythology  \n",
              "0     {'Who was the author of Ramayana?': 'Valmiki'}  \n",
              "1       {'Who was the wife of lakshmana?': 'Urmila'}  \n",
              "2   {'Who is known as the father of Sita?': 'Janak'}  \n",
              "3  {'From which forest was Sita abducted by Ravan...  \n",
              "4          {'Who is Yudhisthira's father?': 'Pandu'}  "
            ],
            "text/html": [
              "\n",
              "  <div id=\"df-aa128cd9-d196-4fc6-85e7-f095f548d7c6\" class=\"colab-df-container\">\n",
              "    <div>\n",
              "<style scoped>\n",
              "    .dataframe tbody tr th:only-of-type {\n",
              "        vertical-align: middle;\n",
              "    }\n",
              "\n",
              "    .dataframe tbody tr th {\n",
              "        vertical-align: top;\n",
              "    }\n",
              "\n",
              "    .dataframe thead th {\n",
              "        text-align: right;\n",
              "    }\n",
              "</style>\n",
              "<table border=\"1\" class=\"dataframe\">\n",
              "  <thead>\n",
              "    <tr style=\"text-align: right;\">\n",
              "      <th></th>\n",
              "      <th>Space</th>\n",
              "      <th>Geography</th>\n",
              "      <th>Animals</th>\n",
              "      <th>Science</th>\n",
              "      <th>Sports</th>\n",
              "      <th>Facts</th>\n",
              "      <th>Instruments</th>\n",
              "      <th>Movies</th>\n",
              "      <th>Indian Cities</th>\n",
              "      <th>Indian Athletes</th>\n",
              "      <th>Mythology</th>\n",
              "    </tr>\n",
              "  </thead>\n",
              "  <tbody>\n",
              "    <tr>\n",
              "      <th>0</th>\n",
              "      <td>{'who was the first person to walk on the moon...</td>\n",
              "      <td>{'which is the longest river on the earth?': '...</td>\n",
              "      <td>{'which is the fastest animal on the land?': '...</td>\n",
              "      <td>{'Who invented the Computer?': 'Charles Babbage'}</td>\n",
              "      <td>{'How many players are there in a cricket team...</td>\n",
              "      <td>{'Which is the most widely spoken language in ...</td>\n",
              "      <td>{' Which is the instrument used to measure Blo...</td>\n",
              "      <td>{'What is the name of the toy cowboy in Toy St...</td>\n",
              "      <td>{'___ in India is known as Orange City.': 'Nag...</td>\n",
              "      <td>{'Who is known as the Flying Sikh of India?': ...</td>\n",
              "      <td>{'Who was the author of Ramayana?': 'Valmiki'}</td>\n",
              "    </tr>\n",
              "    <tr>\n",
              "      <th>1</th>\n",
              "      <td>{'which is the nearest star to the planet?': '...</td>\n",
              "      <td>{'which is the tallest mountain in the world?'...</td>\n",
              "      <td>{'which country is home to the kangaroo?': 'au...</td>\n",
              "      <td>{'Who is the inventor of Radio?': 'Marconi'}</td>\n",
              "      <td>{'What is the National game of India?': 'Hockey'}</td>\n",
              "      <td>{'The largest ‘Democracy’ in the world?': 'Ind...</td>\n",
              "      <td>{'Which instrument is used for measuring wind ...</td>\n",
              "      <td>{'Whose nose grew longer every time he lied?':...</td>\n",
              "      <td>{'The famous Sun Temple in India is located at...</td>\n",
              "      <td>{'Against which country, Sachin Tendulkar scor...</td>\n",
              "      <td>{'Who was the wife of lakshmana?': 'Urmila'}</td>\n",
              "    </tr>\n",
              "    <tr>\n",
              "      <th>2</th>\n",
              "      <td>{'which planet is known as the Red Planet?': '...</td>\n",
              "      <td>{'which continent is known as Dark continent?'...</td>\n",
              "      <td>{'how many legs does a spider have?': 'eight'}</td>\n",
              "      <td>{'Who invented the telephone?': 'Alexander Gra...</td>\n",
              "      <td>{'What is the professional Twenty20 cricket le...</td>\n",
              "      <td>{'What color symbolizes peace?': 'White'}</td>\n",
              "      <td>{'Which instrument is used to measure Atmosphe...</td>\n",
              "      <td>{'What is the name of the fairy in Peter Pan?'...</td>\n",
              "      <td>{'The Parliament of India is located at ___.':...</td>\n",
              "      <td>{'This sports personality has won medals in va...</td>\n",
              "      <td>{'Who is known as the father of Sita?': 'Janak'}</td>\n",
              "    </tr>\n",
              "    <tr>\n",
              "      <th>3</th>\n",
              "      <td>{'which galaxy does our solar system belong to...</td>\n",
              "      <td>{'whuch is the largest ocean in the world?': '...</td>\n",
              "      <td>{'what is the group of lions called?': 'pride'}</td>\n",
              "      <td>{'Who discovered Penicillin in 1928?': 'Alexan...</td>\n",
              "      <td>{'What is the term for a zero score in tennis?...</td>\n",
              "      <td>{' Who is the founder of Microsoft?': 'Bill Ga...</td>\n",
              "      <td>{'Which instrument is used to measure Electric...</td>\n",
              "      <td>{'What is the name of the pirate in Peter Pan?...</td>\n",
              "      <td>{'___ in India is known as Pink City.': 'Jaipur'}</td>\n",
              "      <td>{'Name this only woman boxer to have won a med...</td>\n",
              "      <td>{'From which forest was Sita abducted by Ravan...</td>\n",
              "    </tr>\n",
              "    <tr>\n",
              "      <th>4</th>\n",
              "      <td>{'which is the biggest planet in solar system?...</td>\n",
              "      <td>{'which is the largest country in the world?':...</td>\n",
              "      <td>{'what is the largest mammal in the world?': '...</td>\n",
              "      <td>{'Who discovered electricity?': 'Benjamin Fran...</td>\n",
              "      <td>{'Which is the only team to play in every socc...</td>\n",
              "      <td>{'Global warming is caused by the excess of wh...</td>\n",
              "      <td>{'Which instrument is used to measure Voltage?...</td>\n",
              "      <td>{'Prior to appearing in Black Panther, Michael...</td>\n",
              "      <td>{'___ is called the Oxford of the East in Indi...</td>\n",
              "      <td>{'At the Beijing Olympic Games in 2008, __ bec...</td>\n",
              "      <td>{'Who is Yudhisthira's father?': 'Pandu'}</td>\n",
              "    </tr>\n",
              "  </tbody>\n",
              "</table>\n",
              "</div>\n",
              "    <div class=\"colab-df-buttons\">\n",
              "\n",
              "  <div class=\"colab-df-container\">\n",
              "    <button class=\"colab-df-convert\" onclick=\"convertToInteractive('df-aa128cd9-d196-4fc6-85e7-f095f548d7c6')\"\n",
              "            title=\"Convert this dataframe to an interactive table.\"\n",
              "            style=\"display:none;\">\n",
              "\n",
              "  <svg xmlns=\"http://www.w3.org/2000/svg\" height=\"24px\" viewBox=\"0 -960 960 960\">\n",
              "    <path d=\"M120-120v-720h720v720H120Zm60-500h600v-160H180v160Zm220 220h160v-160H400v160Zm0 220h160v-160H400v160ZM180-400h160v-160H180v160Zm440 0h160v-160H620v160ZM180-180h160v-160H180v160Zm440 0h160v-160H620v160Z\"/>\n",
              "  </svg>\n",
              "    </button>\n",
              "\n",
              "  <style>\n",
              "    .colab-df-container {\n",
              "      display:flex;\n",
              "      gap: 12px;\n",
              "    }\n",
              "\n",
              "    .colab-df-convert {\n",
              "      background-color: #E8F0FE;\n",
              "      border: none;\n",
              "      border-radius: 50%;\n",
              "      cursor: pointer;\n",
              "      display: none;\n",
              "      fill: #1967D2;\n",
              "      height: 32px;\n",
              "      padding: 0 0 0 0;\n",
              "      width: 32px;\n",
              "    }\n",
              "\n",
              "    .colab-df-convert:hover {\n",
              "      background-color: #E2EBFA;\n",
              "      box-shadow: 0px 1px 2px rgba(60, 64, 67, 0.3), 0px 1px 3px 1px rgba(60, 64, 67, 0.15);\n",
              "      fill: #174EA6;\n",
              "    }\n",
              "\n",
              "    .colab-df-buttons div {\n",
              "      margin-bottom: 4px;\n",
              "    }\n",
              "\n",
              "    [theme=dark] .colab-df-convert {\n",
              "      background-color: #3B4455;\n",
              "      fill: #D2E3FC;\n",
              "    }\n",
              "\n",
              "    [theme=dark] .colab-df-convert:hover {\n",
              "      background-color: #434B5C;\n",
              "      box-shadow: 0px 1px 3px 1px rgba(0, 0, 0, 0.15);\n",
              "      filter: drop-shadow(0px 1px 2px rgba(0, 0, 0, 0.3));\n",
              "      fill: #FFFFFF;\n",
              "    }\n",
              "  </style>\n",
              "\n",
              "    <script>\n",
              "      const buttonEl =\n",
              "        document.querySelector('#df-aa128cd9-d196-4fc6-85e7-f095f548d7c6 button.colab-df-convert');\n",
              "      buttonEl.style.display =\n",
              "        google.colab.kernel.accessAllowed ? 'block' : 'none';\n",
              "\n",
              "      async function convertToInteractive(key) {\n",
              "        const element = document.querySelector('#df-aa128cd9-d196-4fc6-85e7-f095f548d7c6');\n",
              "        const dataTable =\n",
              "          await google.colab.kernel.invokeFunction('convertToInteractive',\n",
              "                                                    [key], {});\n",
              "        if (!dataTable) return;\n",
              "\n",
              "        const docLinkHtml = 'Like what you see? Visit the ' +\n",
              "          '<a target=\"_blank\" href=https://colab.research.google.com/notebooks/data_table.ipynb>data table notebook</a>'\n",
              "          + ' to learn more about interactive tables.';\n",
              "        element.innerHTML = '';\n",
              "        dataTable['output_type'] = 'display_data';\n",
              "        await google.colab.output.renderOutput(dataTable, element);\n",
              "        const docLink = document.createElement('div');\n",
              "        docLink.innerHTML = docLinkHtml;\n",
              "        element.appendChild(docLink);\n",
              "      }\n",
              "    </script>\n",
              "  </div>\n",
              "\n",
              "\n",
              "<div id=\"df-64ed55a6-a0c7-4cca-b553-271bd7939f24\">\n",
              "  <button class=\"colab-df-quickchart\" onclick=\"quickchart('df-64ed55a6-a0c7-4cca-b553-271bd7939f24')\"\n",
              "            title=\"Suggest charts\"\n",
              "            style=\"display:none;\">\n",
              "\n",
              "<svg xmlns=\"http://www.w3.org/2000/svg\" height=\"24px\"viewBox=\"0 0 24 24\"\n",
              "     width=\"24px\">\n",
              "    <g>\n",
              "        <path d=\"M19 3H5c-1.1 0-2 .9-2 2v14c0 1.1.9 2 2 2h14c1.1 0 2-.9 2-2V5c0-1.1-.9-2-2-2zM9 17H7v-7h2v7zm4 0h-2V7h2v10zm4 0h-2v-4h2v4z\"/>\n",
              "    </g>\n",
              "</svg>\n",
              "  </button>\n",
              "\n",
              "<style>\n",
              "  .colab-df-quickchart {\n",
              "      --bg-color: #E8F0FE;\n",
              "      --fill-color: #1967D2;\n",
              "      --hover-bg-color: #E2EBFA;\n",
              "      --hover-fill-color: #174EA6;\n",
              "      --disabled-fill-color: #AAA;\n",
              "      --disabled-bg-color: #DDD;\n",
              "  }\n",
              "\n",
              "  [theme=dark] .colab-df-quickchart {\n",
              "      --bg-color: #3B4455;\n",
              "      --fill-color: #D2E3FC;\n",
              "      --hover-bg-color: #434B5C;\n",
              "      --hover-fill-color: #FFFFFF;\n",
              "      --disabled-bg-color: #3B4455;\n",
              "      --disabled-fill-color: #666;\n",
              "  }\n",
              "\n",
              "  .colab-df-quickchart {\n",
              "    background-color: var(--bg-color);\n",
              "    border: none;\n",
              "    border-radius: 50%;\n",
              "    cursor: pointer;\n",
              "    display: none;\n",
              "    fill: var(--fill-color);\n",
              "    height: 32px;\n",
              "    padding: 0;\n",
              "    width: 32px;\n",
              "  }\n",
              "\n",
              "  .colab-df-quickchart:hover {\n",
              "    background-color: var(--hover-bg-color);\n",
              "    box-shadow: 0 1px 2px rgba(60, 64, 67, 0.3), 0 1px 3px 1px rgba(60, 64, 67, 0.15);\n",
              "    fill: var(--button-hover-fill-color);\n",
              "  }\n",
              "\n",
              "  .colab-df-quickchart-complete:disabled,\n",
              "  .colab-df-quickchart-complete:disabled:hover {\n",
              "    background-color: var(--disabled-bg-color);\n",
              "    fill: var(--disabled-fill-color);\n",
              "    box-shadow: none;\n",
              "  }\n",
              "\n",
              "  .colab-df-spinner {\n",
              "    border: 2px solid var(--fill-color);\n",
              "    border-color: transparent;\n",
              "    border-bottom-color: var(--fill-color);\n",
              "    animation:\n",
              "      spin 1s steps(1) infinite;\n",
              "  }\n",
              "\n",
              "  @keyframes spin {\n",
              "    0% {\n",
              "      border-color: transparent;\n",
              "      border-bottom-color: var(--fill-color);\n",
              "      border-left-color: var(--fill-color);\n",
              "    }\n",
              "    20% {\n",
              "      border-color: transparent;\n",
              "      border-left-color: var(--fill-color);\n",
              "      border-top-color: var(--fill-color);\n",
              "    }\n",
              "    30% {\n",
              "      border-color: transparent;\n",
              "      border-left-color: var(--fill-color);\n",
              "      border-top-color: var(--fill-color);\n",
              "      border-right-color: var(--fill-color);\n",
              "    }\n",
              "    40% {\n",
              "      border-color: transparent;\n",
              "      border-right-color: var(--fill-color);\n",
              "      border-top-color: var(--fill-color);\n",
              "    }\n",
              "    60% {\n",
              "      border-color: transparent;\n",
              "      border-right-color: var(--fill-color);\n",
              "    }\n",
              "    80% {\n",
              "      border-color: transparent;\n",
              "      border-right-color: var(--fill-color);\n",
              "      border-bottom-color: var(--fill-color);\n",
              "    }\n",
              "    90% {\n",
              "      border-color: transparent;\n",
              "      border-bottom-color: var(--fill-color);\n",
              "    }\n",
              "  }\n",
              "</style>\n",
              "\n",
              "  <script>\n",
              "    async function quickchart(key) {\n",
              "      const quickchartButtonEl =\n",
              "        document.querySelector('#' + key + ' button');\n",
              "      quickchartButtonEl.disabled = true;  // To prevent multiple clicks.\n",
              "      quickchartButtonEl.classList.add('colab-df-spinner');\n",
              "      try {\n",
              "        const charts = await google.colab.kernel.invokeFunction(\n",
              "            'suggestCharts', [key], {});\n",
              "      } catch (error) {\n",
              "        console.error('Error during call to suggestCharts:', error);\n",
              "      }\n",
              "      quickchartButtonEl.classList.remove('colab-df-spinner');\n",
              "      quickchartButtonEl.classList.add('colab-df-quickchart-complete');\n",
              "    }\n",
              "    (() => {\n",
              "      let quickchartButtonEl =\n",
              "        document.querySelector('#df-64ed55a6-a0c7-4cca-b553-271bd7939f24 button');\n",
              "      quickchartButtonEl.style.display =\n",
              "        google.colab.kernel.accessAllowed ? 'block' : 'none';\n",
              "    })();\n",
              "  </script>\n",
              "</div>\n",
              "\n",
              "  <div id=\"id_5745ba41-4396-4f97-9406-596e809c0128\">\n",
              "    <style>\n",
              "      .colab-df-generate {\n",
              "        background-color: #E8F0FE;\n",
              "        border: none;\n",
              "        border-radius: 50%;\n",
              "        cursor: pointer;\n",
              "        display: none;\n",
              "        fill: #1967D2;\n",
              "        height: 32px;\n",
              "        padding: 0 0 0 0;\n",
              "        width: 32px;\n",
              "      }\n",
              "\n",
              "      .colab-df-generate:hover {\n",
              "        background-color: #E2EBFA;\n",
              "        box-shadow: 0px 1px 2px rgba(60, 64, 67, 0.3), 0px 1px 3px 1px rgba(60, 64, 67, 0.15);\n",
              "        fill: #174EA6;\n",
              "      }\n",
              "\n",
              "      [theme=dark] .colab-df-generate {\n",
              "        background-color: #3B4455;\n",
              "        fill: #D2E3FC;\n",
              "      }\n",
              "\n",
              "      [theme=dark] .colab-df-generate:hover {\n",
              "        background-color: #434B5C;\n",
              "        box-shadow: 0px 1px 3px 1px rgba(0, 0, 0, 0.15);\n",
              "        filter: drop-shadow(0px 1px 2px rgba(0, 0, 0, 0.3));\n",
              "        fill: #FFFFFF;\n",
              "      }\n",
              "    </style>\n",
              "    <button class=\"colab-df-generate\" onclick=\"generateWithVariable('df')\"\n",
              "            title=\"Generate code using this dataframe.\"\n",
              "            style=\"display:none;\">\n",
              "\n",
              "  <svg xmlns=\"http://www.w3.org/2000/svg\" height=\"24px\"viewBox=\"0 0 24 24\"\n",
              "       width=\"24px\">\n",
              "    <path d=\"M7,19H8.4L18.45,9,17,7.55,7,17.6ZM5,21V16.75L18.45,3.32a2,2,0,0,1,2.83,0l1.4,1.43a1.91,1.91,0,0,1,.58,1.4,1.91,1.91,0,0,1-.58,1.4L9.25,21ZM18.45,9,17,7.55Zm-12,3A5.31,5.31,0,0,0,4.9,8.1,5.31,5.31,0,0,0,1,6.5,5.31,5.31,0,0,0,4.9,4.9,5.31,5.31,0,0,0,6.5,1,5.31,5.31,0,0,0,8.1,4.9,5.31,5.31,0,0,0,12,6.5,5.46,5.46,0,0,0,6.5,12Z\"/>\n",
              "  </svg>\n",
              "    </button>\n",
              "    <script>\n",
              "      (() => {\n",
              "      const buttonEl =\n",
              "        document.querySelector('#id_5745ba41-4396-4f97-9406-596e809c0128 button.colab-df-generate');\n",
              "      buttonEl.style.display =\n",
              "        google.colab.kernel.accessAllowed ? 'block' : 'none';\n",
              "\n",
              "      buttonEl.onclick = () => {\n",
              "        google.colab.notebook.generateWithVariable('df');\n",
              "      }\n",
              "      })();\n",
              "    </script>\n",
              "  </div>\n",
              "\n",
              "    </div>\n",
              "  </div>\n"
            ],
            "application/vnd.google.colaboratory.intrinsic+json": {
              "type": "dataframe",
              "variable_name": "df",
              "summary": "{\n  \"name\": \"df\",\n  \"rows\": 5,\n  \"fields\": [\n    {\n      \"column\": \"Space\",\n      \"properties\": {\n        \"dtype\": \"object\",\n        \"semantic_type\": \"\",\n        \"description\": \"\"\n      }\n    },\n    {\n      \"column\": \"Geography\",\n      \"properties\": {\n        \"dtype\": \"object\",\n        \"semantic_type\": \"\",\n        \"description\": \"\"\n      }\n    },\n    {\n      \"column\": \"Animals\",\n      \"properties\": {\n        \"dtype\": \"object\",\n        \"semantic_type\": \"\",\n        \"description\": \"\"\n      }\n    },\n    {\n      \"column\": \"Science\",\n      \"properties\": {\n        \"dtype\": \"object\",\n        \"semantic_type\": \"\",\n        \"description\": \"\"\n      }\n    },\n    {\n      \"column\": \"Sports\",\n      \"properties\": {\n        \"dtype\": \"object\",\n        \"semantic_type\": \"\",\n        \"description\": \"\"\n      }\n    },\n    {\n      \"column\": \"Facts\",\n      \"properties\": {\n        \"dtype\": \"object\",\n        \"semantic_type\": \"\",\n        \"description\": \"\"\n      }\n    },\n    {\n      \"column\": \"Instruments\",\n      \"properties\": {\n        \"dtype\": \"object\",\n        \"semantic_type\": \"\",\n        \"description\": \"\"\n      }\n    },\n    {\n      \"column\": \"Movies\",\n      \"properties\": {\n        \"dtype\": \"object\",\n        \"semantic_type\": \"\",\n        \"description\": \"\"\n      }\n    },\n    {\n      \"column\": \"Indian Cities\",\n      \"properties\": {\n        \"dtype\": \"object\",\n        \"semantic_type\": \"\",\n        \"description\": \"\"\n      }\n    },\n    {\n      \"column\": \"Indian Athletes\",\n      \"properties\": {\n        \"dtype\": \"object\",\n        \"semantic_type\": \"\",\n        \"description\": \"\"\n      }\n    },\n    {\n      \"column\": \"Mythology\",\n      \"properties\": {\n        \"dtype\": \"object\",\n        \"semantic_type\": \"\",\n        \"description\": \"\"\n      }\n    }\n  ]\n}"
            }
          },
          "metadata": {},
          "execution_count": 13
        }
      ]
    },
    {
      "cell_type": "markdown",
      "source": [
        "## The original answer word is changed to question word by substituting letters by \"-\"."
      ],
      "metadata": {
        "id": "1kJtx-71tJuL"
      }
    },
    {
      "cell_type": "code",
      "source": [
        "import re\n",
        "def building_question(question_word: str) -> str:\n",
        "    return re.sub(\"\\w\", \"-\", question_word)"
      ],
      "metadata": {
        "id": "Q9umbBgHtFiD"
      },
      "execution_count": null,
      "outputs": []
    },
    {
      "cell_type": "markdown",
      "source": [
        "## Everytime the guessed letter is correct the below function replaces blanks with the respective letter in the respective places."
      ],
      "metadata": {
        "id": "wK0h3XkptOq6"
      }
    },
    {
      "cell_type": "code",
      "source": [
        "def new_word(word: str, letter: str, a: str) -> str:\n",
        "    for index in range(0, len(a)):\n",
        "        if a[index] == letter:\n",
        "            word = word[:index] + letter + word[index + 1:]\n",
        "    return word"
      ],
      "metadata": {
        "id": "Hj5zt8yqtME9"
      },
      "execution_count": null,
      "outputs": []
    },
    {
      "cell_type": "code",
      "source": [
        "categories = [\"Space\", \"Geography\", \"Animals\", \"Science\", \"Sports\", \"Facts\",\n",
        "              \"Instruments\", \"Movies\", \"Indian Cities\", \"Indian Athletes\", \"Mythology\"]\n",
        "questions = [0, 1, 2, 3, 4]"
      ],
      "metadata": {
        "id": "dsfP-DxKtSUD"
      },
      "execution_count": null,
      "outputs": []
    },
    {
      "cell_type": "markdown",
      "source": [
        "##Main Game Code"
      ],
      "metadata": {
        "id": "5Y859lfBtTAF"
      }
    },
    {
      "cell_type": "markdown",
      "source": [
        "##random.choice(list_name)\n",
        "* This function retrieves a single element from the list."
      ],
      "metadata": {
        "id": "GsHY8vlMtbCu"
      }
    },
    {
      "cell_type": "code",
      "source": [
        "import random\n",
        "print(\"CHOOSE A CATEGORY\")\n",
        "print(categories)\n",
        "category = input()\n",
        "question_number = random.choice(questions)\n",
        "print(list(df[category].iloc[question_number].keys())[0] + \"\\n\")\n",
        "question_word = list(df[category].iloc[question_number].values())[0].lower()\n",
        "dashes = len(question_word.replace(\" \", \"\"))\n",
        "wrong = 0\n",
        "word = building_question(question_word)\n",
        "entered_letters = []\n",
        "print(word + \"\\n\")\n",
        "while wrong != 8 and dashes != 0:\n",
        "    letter = input()\n",
        "    if letter in entered_letters:\n",
        "        print(f\"LETTER ALREADY TRIED\\nTRY ANOTHER\\n{8 - wrong} CHANCES LEFT\\n\" + word + \"\\n\")\n",
        "    elif letter in question_word:\n",
        "        entered_letters.append(letter)\n",
        "        word = new_word(word, letter, question_word)\n",
        "        dashes -= question_word.count(letter)\n",
        "        print(\"\\n\" + word + \"\\n\")\n",
        "    else:\n",
        "        entered_letters.append(letter)\n",
        "        wrong += 1\n",
        "        print(f\"INCORRECT\\nTRY AGAIN\\n{8 - wrong} CHANCES LEFT\")\n",
        "        print(word + \"\\n\")\n",
        "if wrong == 8:\n",
        "    print(\"LEVEL FAILED\")\n",
        "else:\n",
        "    print(\"LEVEL PASSED\")"
      ],
      "metadata": {
        "colab": {
          "base_uri": "https://localhost:8080/"
        },
        "id": "Z4Fwu4g8tcDC",
        "outputId": "ccef9caa-d206-473d-a1c9-7dc329457439"
      },
      "execution_count": null,
      "outputs": [
        {
          "output_type": "stream",
          "name": "stdout",
          "text": [
            "CHOOSE A CATEGORY\n",
            "['Space', 'Geography', 'Animals', 'Science', 'Sports', 'Facts', 'Instruments', 'Movies', 'Indian Cities', 'Indian Athletes', 'Mythology']\n",
            "Facts\n",
            "The largest ‘Democracy’ in the world?\n",
            "\n",
            "-----\n",
            "\n",
            "c\n",
            "INCORRECT\n",
            "TRY AGAIN\n",
            "7 CHANCES LEFT\n",
            "-----\n",
            "\n",
            "i\n",
            "\n",
            "i--i-\n",
            "\n",
            "n\n",
            "\n",
            "in-i-\n",
            "\n",
            "d\n",
            "\n",
            "indi-\n",
            "\n",
            "a\n",
            "\n",
            "india\n",
            "\n",
            "LEVEL PASSED\n"
          ]
        }
      ]
    },
    {
      "cell_type": "markdown",
      "source": [
        "---\n",
        "\n",
        "##THE END"
      ],
      "metadata": {
        "id": "3hXvOiZItfb5"
      }
    }
  ]
}